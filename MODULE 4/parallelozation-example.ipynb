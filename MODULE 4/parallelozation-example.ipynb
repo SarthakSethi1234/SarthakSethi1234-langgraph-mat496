{
 "cells": [
  {
   "metadata": {
    "ExecuteTime": {
     "end_time": "2025-10-31T12:32:10.313139Z",
     "start_time": "2025-10-31T12:32:10.303770Z"
    }
   },
   "cell_type": "code",
   "source": [
    "from dotenv import load_dotenv\n",
    "load_dotenv()\n",
    "\n",
    "%%capture --no-stderr\n",
    "%pip install -U  langgraph tavily-python wikipedia langchain_openai langchain_community langgraph_sdk"
   ],
   "id": "b885ae722971e847",
   "outputs": [
    {
     "name": "stderr",
     "output_type": "stream",
     "text": [
      "UsageError: Line magic function `%%capture` not found.\n"
     ]
    }
   ],
   "execution_count": 1
  },
  {
   "metadata": {
    "ExecuteTime": {
     "end_time": "2025-10-31T12:32:55.032771Z",
     "start_time": "2025-10-31T12:32:54.961800Z"
    }
   },
   "cell_type": "code",
   "source": [
    "from langchain_openai import ChatOpenAI\n",
    "from langchain_core.messages import HumanMessage, SystemMessage\n",
    "from langchain_community.document_loaders import WikipediaLoader\n",
    "from langchain_community.tools import TavilySearchResults\n",
    "from typing import Annotated, TypedDict\n",
    "import operator\n",
    "from langgraph.graph import StateGraph, START, END"
   ],
   "id": "5f6b6956f2e2a447",
   "outputs": [],
   "execution_count": 7
  },
  {
   "metadata": {
    "ExecuteTime": {
     "end_time": "2025-10-31T12:32:55.790625Z",
     "start_time": "2025-10-31T12:32:55.786062Z"
    }
   },
   "cell_type": "code",
   "source": [
    "# Initialize model\n",
    "llm = ChatOpenAI(model=\"gpt-4o\", temperature=0)\n",
    "\n",
    "\n",
    "# Define the graph state\n",
    "class State(TypedDict):\n",
    "    company: str\n",
    "    summary: str\n",
    "    context: Annotated[list, operator.add]\n"
   ],
   "id": "6fcbf69c8024b9d3",
   "outputs": [],
   "execution_count": 8
  },
  {
   "metadata": {
    "ExecuteTime": {
     "end_time": "2025-10-31T12:32:56.391367Z",
     "start_time": "2025-10-31T12:32:56.386162Z"
    }
   },
   "cell_type": "code",
   "source": [
    "# Node 1: Search for recent news\n",
    "def search_news(state):\n",
    "    \"\"\"Retrieve recent tech news about the company.\"\"\"\n",
    "    company = state[\"company\"]\n",
    "    tavily = TavilySearchResults(max_results=3)\n",
    "    search_docs = tavily.invoke(f\"Recent news about {company}\")\n",
    "\n",
    "    formatted_docs = \"\\n\\n---\\n\\n\".join(\n",
    "        [f\"<News href='{doc['url']}'>\\n{doc['content']}\\n</News>\" for doc in search_docs]\n",
    "    )\n",
    "    return {\"context\": [formatted_docs]}\n",
    "\n",
    "# Node 2: Get Wikipedia background\n",
    "def search_background(state):\n",
    "    \"\"\"Retrieve company background from Wikipedia.\"\"\"\n",
    "    company = state[\"company\"]\n",
    "    search_docs = WikipediaLoader(query=company, load_max_docs=1).load()\n",
    "\n",
    "    formatted_docs = \"\\n\\n---\\n\\n\".join(\n",
    "        [f\"<Wikipedia source='{doc.metadata['source']}'>\\n{doc.page_content}\\n</Wikipedia>\" for doc in search_docs]\n",
    "    )\n",
    "    return {\"context\": [formatted_docs]}\n",
    "\n",
    "# Node 3: Summarize everything\n",
    "def summarize_news(state):\n",
    "    \"\"\"Generate a summary of recent news and background.\"\"\"\n",
    "    company = state[\"company\"]\n",
    "    context = \"\\n\\n\".join(state[\"context\"])\n",
    "\n",
    "    prompt = f\"\"\"\n",
    "    Summarize the most recent developments about {company} using this information:\n",
    "    {context}\n",
    "\n",
    "    Your summary should include:\n",
    "    - 3–5 key highlights or events.\n",
    "    - Mention stock or tech updates if present.\n",
    "    - Write in 2–3 clear, concise paragraphs.\n",
    "    \"\"\"\n",
    "\n",
    "    response = llm.invoke(prompt)\n",
    "    return {\"summary\": response.content}\n"
   ],
   "id": "9b3b2a760761cb3b",
   "outputs": [],
   "execution_count": 9
  },
  {
   "metadata": {
    "ExecuteTime": {
     "end_time": "2025-10-31T12:32:56.876800Z",
     "start_time": "2025-10-31T12:32:56.813416Z"
    }
   },
   "cell_type": "code",
   "source": [
    "builder = StateGraph(State)\n",
    "\n",
    "builder.add_node(\"search_news\", search_news)\n",
    "builder.add_node(\"search_background\", search_background)\n",
    "builder.add_node(\"summarize_news\", summarize_news)\n",
    "\n",
    "# Define flow\n",
    "builder.add_edge(START, \"search_news\")\n",
    "builder.add_edge(START, \"search_background\")\n",
    "builder.add_edge(\"search_news\", \"summarize_news\")\n",
    "builder.add_edge(\"search_background\", \"summarize_news\")\n",
    "builder.add_edge(\"summarize_news\", END)\n",
    "\n",
    "# Compile the graph\n",
    "graph = builder.compile()\n",
    "\n",
    "# Visualize the flow\n",
    "from IPython.display import Image\n",
    "display(Image(graph.get_graph().draw_mermaid_png()))"
   ],
   "id": "d0fe7058b2154f9f",
   "outputs": [
    {
     "data": {
      "image/png": "[encoded data removed]",
      "text/plain": [
       "<IPython.core.display.Image object>"
      ]
     },
     "metadata": {},
     "output_type": "display_data",
     "jetTransient": {
      "display_id": null
     }
    }
   ],
   "execution_count": 10
  },
  {
   "metadata": {},
   "cell_type": "markdown",
   "source": "",
   "id": "b558b89e84d38047"
  },
  {
   "metadata": {
    "ExecuteTime": {
     "end_time": "2025-10-31T12:33:10.982722Z",
     "start_time": "2025-10-31T12:32:57.943793Z"
    }
   },
   "cell_type": "code",
   "source": [
    "result = graph.invoke({\"company\": \"Apple\"})\n",
    "print(result[\"summary\"])\n"
   ],
   "id": "2925d9a1ba9ea30",
   "outputs": [
    {
     "name": "stdout",
     "output_type": "stream",
     "text": [
      "In the latest developments, Apple reported a total revenue of $416 billion for fiscal 2025, marking a 6% increase over the previous year. The company's sales in the September quarter rose by 8% annually, driven by the launch of the iPhone 17, which contributed to a 6% increase in iPhone revenue, totaling $49.03 billion. Despite these gains, Apple shares experienced a decline due to iPhone revenue missing expectations. The Mac business, however, showed robust growth with a 13% increase in sales, attributed to the strong performance of the MacBook Air, which saw a price reduction earlier in the year.\n",
      "\n",
      "In terms of geographical performance, Apple's sales in Greater China, including Hong Kong and Taiwan, fell by 4% annually to $14.5 billion. However, CEO Tim Cook expressed optimism about a return to growth in the region, citing positive reception of the iPhone 17. Looking ahead, Apple plans to release an updated version of Siri next year and is exploring further partnerships, such as integrating OpenAI's ChatGPT into Apple Intelligence, signaling a continued focus on enhancing its technological ecosystem.\n",
      "\n",
      "Overall, Apple continues to lead in innovation with its diverse range of products and services, including the iPhone, iPad, Mac, and Apple Watch, alongside its software platforms like iOS and macOS. The company remains committed to providing seamless experiences across its devices and expanding its services, which include the App Store, Apple Music, and Apple Pay, supported by a workforce of over 150,000 employees.\n"
     ]
    }
   ],
   "execution_count": 11
  },
  {
   "metadata": {},
   "cell_type": "code",
   "outputs": [],
   "execution_count": null,
   "source": "",
   "id": "ea9671db7995b316"
  }
 ],
 "metadata": {
  "kernelspec": {
   "display_name": "Python 3 (ipykernel)",
   "language": "python",
   "name": "python3"
  },
  "language_info": {
   "codemirror_mode": {
    "name": "ipython",
    "version": 2
   },
   "file_extension": ".py",
   "mimetype": "text/x-python",
   "name": "python",
   "nbconvert_exporter": "python",
   "pygments_lexer": "ipython2",
   "version": "2.7.6"
  }
 },
 "nbformat": 4,
 "nbformat_minor": 5
}
