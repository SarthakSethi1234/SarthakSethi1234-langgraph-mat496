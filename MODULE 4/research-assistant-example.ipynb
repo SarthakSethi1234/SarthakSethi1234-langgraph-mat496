{
 "cells": [
  {
   "cell_type": "code",
   "metadata": {
    "ExecuteTime": {
     "end_time": "2025-11-01T14:25:44.631575Z",
     "start_time": "2025-11-01T14:25:43.733336Z"
    }
   },
   "source": [
    "%%capture --no-stderr\n",
    "%pip install --quiet -U langgraph langchain_openai langchain_community langchain_core tavily-python"
   ],
   "outputs": [],
   "execution_count": 1
  },
  {
   "cell_type": "code",
   "metadata": {
    "ExecuteTime": {
     "end_time": "2025-11-01T14:25:44.644847Z",
     "start_time": "2025-11-01T14:25:44.636438Z"
    }
   },
   "source": [
    "from dotenv import load_dotenv\n",
    "load_dotenv()"
   ],
   "outputs": [
    {
     "data": {
      "text/plain": [
       "True"
      ]
     },
     "execution_count": 2,
     "metadata": {},
     "output_type": "execute_result"
    }
   ],
   "execution_count": 2
  },
  {
   "cell_type": "code",
   "metadata": {
    "ExecuteTime": {
     "end_time": "2025-11-01T14:25:45.596731Z",
     "start_time": "2025-11-01T14:25:45.044197Z"
    }
   },
   "source": [
    "from langchain_openai import ChatOpenAI\n",
    "llm = ChatOpenAI(model=\"gpt-4o-mini\", temperature=0)"
   ],
   "outputs": [],
   "execution_count": 3
  },
  {
   "cell_type": "markdown",
   "metadata": {},
   "source": [
    "## Part 1: Generate Movie Analysts"
   ]
  },
  {
   "cell_type": "code",
   "metadata": {
    "ExecuteTime": {
     "end_time": "2025-11-01T14:25:46.300706Z",
     "start_time": "2025-11-01T14:25:46.296080Z"
    }
   },
   "source": [
    "from typing import List\n",
    "from typing_extensions import TypedDict\n",
    "from pydantic import BaseModel, Field\n",
    "\n",
    "class Analyst(BaseModel):\n",
    "    affiliation: str = Field(description=\"Affiliation of the analyst.\")\n",
    "    name: str = Field(description=\"Name of the analyst.\")\n",
    "    role: str = Field(description=\"Role of the analyst.\")\n",
    "    description: str = Field(description=\"Description of the analyst's focus.\")\n",
    "    \n",
    "    @property\n",
    "    def persona(self) -> str:\n",
    "        return f\"Name: {self.name}\\nRole: {self.role}\\nAffiliation: {self.affiliation}\\nDescription: {self.description}\\n\"\n",
    "\n",
    "class Perspectives(BaseModel):\n",
    "    analysts: List[Analyst] = Field(description=\"List of analysts with their roles and affiliations.\")\n",
    "\n",
    "class GenerateAnalystsState(TypedDict):\n",
    "    topic: str\n",
    "    max_analysts: int\n",
    "    human_analyst_feedback: str\n",
    "    analysts: List[Analyst]"
   ],
   "outputs": [],
   "execution_count": 4
  },
  {
   "cell_type": "code",
   "metadata": {
    "ExecuteTime": {
     "end_time": "2025-11-01T14:25:47.109904Z",
     "start_time": "2025-11-01T14:25:46.979729Z"
    }
   },
   "source": [
    "from IPython.display import Image, display\n",
    "from langgraph.graph import START, END, StateGraph\n",
    "from langgraph.checkpoint.memory import MemorySaver\n",
    "from langchain_core.messages import AIMessage, HumanMessage, SystemMessage\n",
    "\n",
    "analyst_instructions = \"\"\"You are creating movie review analysts. Follow these instructions:\n",
    "\n",
    "1. Review the movie topic: {topic}\n",
    "2. Consider any feedback: {human_analyst_feedback}\n",
    "3. Create {max_analysts} analysts focused on different aspects of movie reviews\n",
    "4. Each analyst should focus on: Critical Reception, Audience Response, Technical Aspects, or Story/Performance\n",
    "\"\"\"\n",
    "\n",
    "def create_analysts(state: GenerateAnalystsState):\n",
    "    topic = state['topic']\n",
    "    max_analysts = state['max_analysts']\n",
    "    human_analyst_feedback = state.get('human_analyst_feedback', '')\n",
    "    \n",
    "    structured_llm = llm.with_structured_output(Perspectives)\n",
    "    system_message = analyst_instructions.format(\n",
    "        topic=topic,\n",
    "        human_analyst_feedback=human_analyst_feedback,\n",
    "        max_analysts=max_analysts\n",
    "    )\n",
    "    \n",
    "    analysts = structured_llm.invoke([\n",
    "        SystemMessage(content=system_message),\n",
    "        HumanMessage(content=\"Generate the movie review analysts.\")\n",
    "    ])\n",
    "    \n",
    "    return {\"analysts\": analysts.analysts}\n",
    "\n",
    "def human_feedback(state: GenerateAnalystsState):\n",
    "    pass\n",
    "\n",
    "def should_continue(state: GenerateAnalystsState):\n",
    "    human_analyst_feedback = state.get('human_analyst_feedback', None)\n",
    "    if human_analyst_feedback:\n",
    "        return \"create_analysts\"\n",
    "    return END\n",
    "\n",
    "# Build graph\n",
    "builder = StateGraph(GenerateAnalystsState)\n",
    "builder.add_node(\"create_analysts\", create_analysts)\n",
    "builder.add_node(\"human_feedback\", human_feedback)\n",
    "builder.add_edge(START, \"create_analysts\")\n",
    "builder.add_edge(\"create_analysts\", \"human_feedback\")\n",
    "builder.add_conditional_edges(\"human_feedback\", should_continue, [\"create_analysts\", END])\n",
    "\n",
    "memory = MemorySaver()\n",
    "graph = builder.compile(interrupt_before=['human_feedback'], checkpointer=memory)\n",
    "display(Image(graph.get_graph(xray=1).draw_mermaid_png()))"
   ],
   "outputs": [
    {
     "data": {
      "image/png": "[encoded data removed]",
      "text/plain": [
       "<IPython.core.display.Image object>"
      ]
     },
     "metadata": {},
     "output_type": "display_data",
     "jetTransient": {
      "display_id": null
     }
    }
   ],
   "execution_count": 5
  },
  {
   "cell_type": "code",
   "metadata": {
    "ExecuteTime": {
     "end_time": "2025-11-01T14:25:52.579694Z",
     "start_time": "2025-11-01T14:25:47.712015Z"
    }
   },
   "source": [
    "# Generate analysts for movie review\n",
    "max_analysts = 2\n",
    "topic = \"Dune: Part Two movie review\"\n",
    "thread = {\"configurable\": {\"thread_id\": \"1\"}}\n",
    "\n",
    "for event in graph.stream({\"topic\": topic, \"max_analysts\": max_analysts}, thread, stream_mode=\"values\"):\n",
    "    analysts = event.get('analysts', '')\n",
    "    if analysts:\n",
    "        for analyst in analysts:\n",
    "            print(f\"Name: {analyst.name}\")\n",
    "            print(f\"Affiliation: {analyst.affiliation}\")\n",
    "            print(f\"Role: {analyst.role}\")\n",
    "            print(f\"Description: {analyst.description}\")\n",
    "            print(\"-\" * 50)"
   ],
   "outputs": [
    {
     "name": "stdout",
     "output_type": "stream",
     "text": [
      "Name: Alice Thompson\n",
      "Affiliation: Film Critic Association\n",
      "Role: Film Critic\n",
      "Description: Alice focuses on the critical reception of 'Dune: Part Two', analyzing reviews from top critics and aggregating scores from platforms like Rotten Tomatoes and Metacritic. She examines how the film's themes, direction, and performances resonate with critics and how they compare to the first installment.\n",
      "--------------------------------------------------\n",
      "Name: Mark Johnson\n",
      "Affiliation: Audience Insights Group\n",
      "Role: Audience Analyst\n",
      "Description: Mark specializes in audience response to 'Dune: Part Two', gathering data from social media, audience ratings, and box office performance. He explores how viewers perceive the film's storytelling, character development, and visual effects, and how these elements contribute to overall audience satisfaction.\n",
      "--------------------------------------------------\n"
     ]
    }
   ],
   "execution_count": 6
  },
  {
   "cell_type": "code",
   "metadata": {
    "ExecuteTime": {
     "end_time": "2025-11-01T14:25:58.816526Z",
     "start_time": "2025-11-01T14:25:58.808671Z"
    }
   },
   "source": [
    "# Accept the analysts (no changes needed)\n",
    "graph.update_state(thread, {\"human_analyst_feedback\": None}, as_node=\"human_feedback\")"
   ],
   "outputs": [
    {
     "data": {
      "text/plain": [
       "{'configurable': {'thread_id': '1',\n",
       "  'checkpoint_ns': '',\n",
       "  'checkpoint_id': '1f0b72ea-f6ed-6804-8002-b074b16487b3'}}"
      ]
     },
     "execution_count": 7,
     "metadata": {},
     "output_type": "execute_result"
    }
   ],
   "execution_count": 7
  },
  {
   "cell_type": "code",
   "metadata": {
    "ExecuteTime": {
     "end_time": "2025-11-01T14:26:02.033575Z",
     "start_time": "2025-11-01T14:26:02.026968Z"
    }
   },
   "source": [
    "# Continue and get final analysts\n",
    "for event in graph.stream(None, thread, stream_mode=\"updates\"):\n",
    "    print(\"--Node--\")\n",
    "    node_name = next(iter(event.keys()))\n",
    "    print(node_name)\n",
    "\n",
    "final_state = graph.get_state(thread)\n",
    "analysts = final_state.values.get('analysts')\n",
    "print(\"\\nFinal Analysts:\")\n",
    "for analyst in analysts:\n",
    "    print(f\"\\n{analyst.name} - {analyst.role}\")"
   ],
   "outputs": [
    {
     "name": "stdout",
     "output_type": "stream",
     "text": [
      "\n",
      "Final Analysts:\n",
      "\n",
      "Alice Thompson - Film Critic\n",
      "\n",
      "Mark Johnson - Audience Analyst\n"
     ]
    }
   ],
   "execution_count": 8
  },
  {
   "cell_type": "markdown",
   "metadata": {},
   "source": [
    "## Part 2: Conduct Interviews"
   ]
  },
  {
   "cell_type": "code",
   "metadata": {
    "ExecuteTime": {
     "end_time": "2025-11-01T14:26:04.758894Z",
     "start_time": "2025-11-01T14:26:04.753881Z"
    }
   },
   "source": [
    "import operator\n",
    "from typing import Annotated\n",
    "from langgraph.graph import MessagesState\n",
    "\n",
    "class InterviewState(MessagesState):\n",
    "    max_num_turns: int\n",
    "    context: Annotated[list, operator.add]\n",
    "    analyst: Analyst\n",
    "    interview: str\n",
    "    sections: list\n",
    "\n",
    "class SearchQuery(BaseModel):\n",
    "    search_query: str = Field(None, description=\"Search query for retrieval.\")"
   ],
   "outputs": [],
   "execution_count": 9
  },
  {
   "cell_type": "code",
   "metadata": {
    "ExecuteTime": {
     "end_time": "2025-11-01T14:26:05.523327Z",
     "start_time": "2025-11-01T14:26:05.519545Z"
    }
   },
   "source": [
    "question_instructions = \"\"\"You are a movie analyst interviewing an expert about: {goals}\n",
    "\n",
    "Your goal is to gather specific insights about the movie:\n",
    "1. Focus on concrete examples and specific details\n",
    "2. Ask follow-up questions to get deeper insights\n",
    "3. When satisfied, end with: \"Thank you so much for your help!\"\n",
    "\n",
    "Start by introducing yourself and asking your first question.\n",
    "\"\"\"\n",
    "\n",
    "def generate_question(state: InterviewState):\n",
    "    analyst = state[\"analyst\"]\n",
    "    messages = state[\"messages\"]\n",
    "    \n",
    "    system_message = question_instructions.format(goals=analyst.persona)\n",
    "    question = llm.invoke([SystemMessage(content=system_message)] + messages)\n",
    "    \n",
    "    return {\"messages\": [question]}"
   ],
   "outputs": [],
   "execution_count": 10
  },
  {
   "cell_type": "code",
   "metadata": {
    "ExecuteTime": {
     "end_time": "2025-11-01T14:26:06.489857Z",
     "start_time": "2025-11-01T14:26:06.401634Z"
    }
   },
   "source": [
    "# Web search tool (simplified - only using Tavily)\n",
    "from langchain_community.tools.tavily_search import TavilySearchResults\n",
    "tavily_search = TavilySearchResults(max_results=2)\n",
    "\n",
    "search_instructions = SystemMessage(content=\"\"\"Generate a well-structured search query \n",
    "for movie information based on the conversation. Focus on the analyst's last question.\"\"\")\n",
    "\n",
    "def search_web(state: InterviewState):\n",
    "    structured_llm = llm.with_structured_output(SearchQuery)\n",
    "    search_query = structured_llm.invoke([search_instructions] + state['messages'])\n",
    "    \n",
    "    search_docs = tavily_search.invoke(search_query.search_query)\n",
    "    formatted_search_docs = \"\\n\\n---\\n\\n\".join([\n",
    "        f'<Document href=\"{doc[\"url\"]}\"/>\\n{doc[\"content\"]}\\n</Document>'\n",
    "        for doc in search_docs\n",
    "    ])\n",
    "    \n",
    "    return {\"context\": [formatted_search_docs]}"
   ],
   "outputs": [
    {
     "name": "stderr",
     "output_type": "stream",
     "text": [
      "/var/folders/6d/nrcfk1zj04jb6zj0_p75ydvw0000gn/T/ipykernel_55034/1572635060.py:3: LangChainDeprecationWarning: The class `TavilySearchResults` was deprecated in LangChain 0.3.25 and will be removed in 1.0. An updated version of the class exists in the `langchain-tavily package and should be used instead. To use it run `pip install -U `langchain-tavily` and import as `from `langchain_tavily import TavilySearch``.\n",
      "  tavily_search = TavilySearchResults(max_results=2)\n"
     ]
    }
   ],
   "execution_count": 11
  },
  {
   "cell_type": "code",
   "metadata": {
    "ExecuteTime": {
     "end_time": "2025-11-01T14:26:07.579350Z",
     "start_time": "2025-11-01T14:26:07.572103Z"
    }
   },
   "source": [
    "answer_instructions = \"\"\"You are a movie expert being interviewed by {goals}.\n",
    "\n",
    "Answer using this context:\n",
    "{context}\n",
    "\n",
    "Guidelines:\n",
    "1. Use only information from the context\n",
    "2. Cite sources using [1], [2] format\n",
    "3. List sources at the end\n",
    "4. Be specific with examples\n",
    "\"\"\"\n",
    "\n",
    "def generate_answer(state: InterviewState):\n",
    "    analyst = state[\"analyst\"]\n",
    "    messages = state[\"messages\"]\n",
    "    context = state[\"context\"]\n",
    "    \n",
    "    system_message = answer_instructions.format(goals=analyst.persona, context=context)\n",
    "    answer = llm.invoke([SystemMessage(content=system_message)] + messages)\n",
    "    answer.name = \"expert\"\n",
    "    \n",
    "    return {\"messages\": [answer]}\n",
    "\n",
    "from langchain_core.messages import get_buffer_string\n",
    "\n",
    "def save_interview(state: InterviewState):\n",
    "    messages = state[\"messages\"]\n",
    "    interview = get_buffer_string(messages)\n",
    "    return {\"interview\": interview}\n",
    "\n",
    "def route_messages(state: InterviewState, name: str = \"expert\"):\n",
    "    messages = state[\"messages\"]\n",
    "    max_num_turns = state.get('max_num_turns', 2)\n",
    "    \n",
    "    num_responses = len([m for m in messages if isinstance(m, AIMessage) and m.name == name])\n",
    "    \n",
    "    if num_responses >= max_num_turns:\n",
    "        return 'save_interview'\n",
    "    \n",
    "    last_question = messages[-2]\n",
    "    if \"Thank you so much for your help\" in last_question.content:\n",
    "        return 'save_interview'\n",
    "    \n",
    "    return \"ask_question\""
   ],
   "outputs": [],
   "execution_count": 12
  },
  {
   "cell_type": "code",
   "metadata": {
    "ExecuteTime": {
     "end_time": "2025-11-01T14:26:09.041455Z",
     "start_time": "2025-11-01T14:26:08.172535Z"
    }
   },
   "source": [
    "section_writer_instructions = \"\"\"You are writing a movie review section.\n",
    "\n",
    "Create a section with:\n",
    "## {focus}\n",
    "### Summary (200-300 words)\n",
    "### Sources\n",
    "\n",
    "Focus on specific details and examples from the interview.\n",
    "\"\"\"\n",
    "\n",
    "def write_section(state: InterviewState):\n",
    "    interview = state[\"interview\"]\n",
    "    context = state[\"context\"]\n",
    "    analyst = state[\"analyst\"]\n",
    "    \n",
    "    system_message = section_writer_instructions.format(focus=analyst.role)\n",
    "    section = llm.invoke([\n",
    "        SystemMessage(content=system_message),\n",
    "        HumanMessage(content=f\"Use this context: {context}\")\n",
    "    ])\n",
    "    \n",
    "    return {\"sections\": [section.content]}\n",
    "\n",
    "# Build interview graph\n",
    "interview_builder = StateGraph(InterviewState)\n",
    "interview_builder.add_node(\"ask_question\", generate_question)\n",
    "interview_builder.add_node(\"search_web\", search_web)\n",
    "interview_builder.add_node(\"answer_question\", generate_answer)\n",
    "interview_builder.add_node(\"save_interview\", save_interview)\n",
    "interview_builder.add_node(\"write_section\", write_section)\n",
    "\n",
    "interview_builder.add_edge(START, \"ask_question\")\n",
    "interview_builder.add_edge(\"ask_question\", \"search_web\")\n",
    "interview_builder.add_edge(\"search_web\", \"answer_question\")\n",
    "interview_builder.add_conditional_edges(\"answer_question\", route_messages, ['ask_question', 'save_interview'])\n",
    "interview_builder.add_edge(\"save_interview\", \"write_section\")\n",
    "interview_builder.add_edge(\"write_section\", END)\n",
    "\n",
    "memory = MemorySaver()\n",
    "interview_graph = interview_builder.compile(checkpointer=memory)\n",
    "display(Image(interview_graph.get_graph().draw_mermaid_png()))"
   ],
   "outputs": [
    {
     "data": {
      "image/png": "[encoded data removed]",
      "text/plain": [
       "<IPython.core.display.Image object>"
      ]
     },
     "metadata": {},
     "output_type": "display_data",
     "jetTransient": {
      "display_id": null
     }
    }
   ],
   "execution_count": 13
  },
  {
   "cell_type": "markdown",
   "metadata": {},
   "source": [
    "## Part 3: Complete Research System"
   ]
  },
  {
   "cell_type": "code",
   "metadata": {
    "ExecuteTime": {
     "end_time": "2025-11-01T14:26:16.510460Z",
     "start_time": "2025-11-01T14:26:15.721563Z"
    }
   },
   "source": [
    "class ResearchGraphState(TypedDict):\n",
    "    topic: str\n",
    "    max_analysts: int\n",
    "    human_analyst_feedback: str\n",
    "    analysts: List[Analyst]\n",
    "    sections: Annotated[list, operator.add]\n",
    "    final_report: str\n",
    "\n",
    "from langgraph.constants import Send\n",
    "\n",
    "def initiate_all_interviews(state: ResearchGraphState):\n",
    "    human_analyst_feedback = state.get('human_analyst_feedback')\n",
    "    if human_analyst_feedback:\n",
    "        return \"create_analysts\"\n",
    "    \n",
    "    topic = state[\"topic\"]\n",
    "    return [Send(\"conduct_interview\", {\n",
    "        \"analyst\": analyst,\n",
    "        \"messages\": [HumanMessage(content=f\"Let's discuss {topic}\")]\n",
    "    }) for analyst in state[\"analysts\"]]\n",
    "\n",
    "report_writer_instructions = \"\"\"Write a movie review report combining these sections:\n",
    "\n",
    "{context}\n",
    "\n",
    "Create a cohesive review with:\n",
    "# {topic}\n",
    "## Critical Reception\n",
    "## Audience Response  \n",
    "## Sources\n",
    "\n",
    "Target 400-500 words total.\n",
    "\"\"\"\n",
    "\n",
    "def write_report(state: ResearchGraphState):\n",
    "    sections = state[\"sections\"]\n",
    "    topic = state[\"topic\"]\n",
    "    \n",
    "    formatted_sections = \"\\n\\n\".join([f\"{section}\" for section in sections])\n",
    "    system_message = report_writer_instructions.format(topic=topic, context=formatted_sections)\n",
    "    report = llm.invoke([SystemMessage(content=system_message), \n",
    "                        HumanMessage(content=\"Write the movie review.\")])\n",
    "    \n",
    "    return {\"final_report\": report.content}\n",
    "\n",
    "# Build final graph\n",
    "builder = StateGraph(ResearchGraphState)\n",
    "builder.add_node(\"create_analysts\", create_analysts)\n",
    "builder.add_node(\"human_feedback\", human_feedback)\n",
    "builder.add_node(\"conduct_interview\", interview_builder.compile())\n",
    "builder.add_node(\"write_report\", write_report)\n",
    "\n",
    "builder.add_edge(START, \"create_analysts\")\n",
    "builder.add_edge(\"create_analysts\", \"human_feedback\")\n",
    "builder.add_conditional_edges(\"human_feedback\", initiate_all_interviews, \n",
    "                             [\"create_analysts\", \"conduct_interview\"])\n",
    "builder.add_edge(\"conduct_interview\", \"write_report\")\n",
    "builder.add_edge(\"write_report\", END)\n",
    "\n",
    "memory = MemorySaver()\n",
    "graph = builder.compile(interrupt_before=['human_feedback'], checkpointer=memory)\n",
    "display(Image(graph.get_graph(xray=1).draw_mermaid_png()))"
   ],
   "outputs": [
    {
     "name": "stderr",
     "output_type": "stream",
     "text": [
      "/var/folders/6d/nrcfk1zj04jb6zj0_p75ydvw0000gn/T/ipykernel_55034/2671174223.py:9: LangGraphDeprecatedSinceV10: Importing Send from langgraph.constants is deprecated. Please use 'from langgraph.types import Send' instead. Deprecated in LangGraph V1.0 to be removed in V2.0.\n",
      "  from langgraph.constants import Send\n"
     ]
    },
    {
     "data": {
      "image/png": "[encoded data removed]",
      "text/plain": [
       "<IPython.core.display.Image object>"
      ]
     },
     "metadata": {},
     "output_type": "display_data",
     "jetTransient": {
      "display_id": null
     }
    }
   ],
   "execution_count": 14
  },
  {
   "cell_type": "code",
   "metadata": {
    "ExecuteTime": {
     "end_time": "2025-11-01T14:26:25.835927Z",
     "start_time": "2025-11-01T14:26:21.902198Z"
    }
   },
   "source": [
    "# Run the complete system\n",
    "max_analysts = 2\n",
    "topic = \"Dune: Part Two movie review\"\n",
    "thread = {\"configurable\": {\"thread_id\": \"1\"}}\n",
    "\n",
    "for event in graph.stream({\"topic\": topic, \"max_analysts\": max_analysts}, \n",
    "                         thread, stream_mode=\"values\"):\n",
    "    analysts = event.get('analysts', '')\n",
    "    if analysts:\n",
    "        print(\"Generated Analysts:\")\n",
    "        for analyst in analysts:\n",
    "            print(f\"- {analyst.name}: {analyst.role}\")"
   ],
   "outputs": [
    {
     "name": "stdout",
     "output_type": "stream",
     "text": [
      "Generated Analysts:\n",
      "- Emily Carter: Critical Reception Analyst\n",
      "- Michael Thompson: Audience Response Analyst\n"
     ]
    }
   ],
   "execution_count": 15
  },
  {
   "cell_type": "code",
   "metadata": {
    "ExecuteTime": {
     "end_time": "2025-11-01T14:27:23.712845Z",
     "start_time": "2025-11-01T14:26:26.990869Z"
    }
   },
   "source": [
    "# Accept analysts and continue\n",
    "graph.update_state(thread, {\"human_analyst_feedback\": None}, as_node=\"human_feedback\")\n",
    "\n",
    "for event in graph.stream(None, thread, stream_mode=\"updates\"):\n",
    "    print(f\"Processing: {next(iter(event.keys()))}\")"
   ],
   "outputs": [
    {
     "name": "stdout",
     "output_type": "stream",
     "text": [
      "Processing: conduct_interview\n",
      "Processing: conduct_interview\n",
      "Processing: write_report\n"
     ]
    }
   ],
   "execution_count": 16
  },
  {
   "cell_type": "code",
   "metadata": {
    "ExecuteTime": {
     "end_time": "2025-11-01T14:27:43.375168Z",
     "start_time": "2025-11-01T14:27:43.364900Z"
    }
   },
   "source": [
    "# Display final report\n",
    "from IPython.display import Markdown\n",
    "final_state = graph.get_state(thread)\n",
    "report = final_state.values.get('final_report')\n",
    "Markdown(report)"
   ],
   "outputs": [
    {
     "data": {
      "text/plain": [
       "<IPython.core.display.Markdown object>"
      ],
      "text/markdown": "# Dune: Part Two Movie Review\n\n## Critical Reception\n\"Dune: Part Two,\" directed by Denis Villeneuve, has emerged as a cinematic spectacle that has captivated audiences while also sparking a range of critical responses. The film is lauded for its breathtaking visuals and exceptional cinematography, which transport viewers into the intricately crafted universe of Frank Herbert's epic saga. Critics have particularly praised the performances of Timothée Chalamet as Paul Atreides and Zendaya as Chani, highlighting their palpable chemistry and emotional depth. The film's sound design has also received accolades, enhancing the immersive experience that Villeneuve is known for.\n\nHowever, the film is not without its detractors. Some critics have pointed out pacing issues and rushed climaxes, suggesting that the narrative may leave viewers unfamiliar with the source material feeling disengaged. Concerns have also been raised regarding the emotional stakes of the story, with some feeling that it lacks the tension necessary to elevate the drama. Despite these criticisms, many reviewers appreciate the film's complex world-building and philosophical themes, which resonate with a segment of the audience. Overall, \"Dune: Part Two\" is viewed as a significant cinematic achievement, with many considering it a worthy continuation of the saga initiated in \"Dune: Part One.\" The film's reception reflects a blend of admiration for its artistic merits and a recognition of its narrative shortcomings.\n\n## Audience Response\nAudience reactions to \"Dune: Part Two\" have been overwhelmingly positive, with a remarkable 92% approval rating on Rotten Tomatoes and an average score of 8.4/10. Viewers have celebrated the film as a visual masterpiece, praising its stunning effects and strong performances, particularly the dynamic between Paul and Chani. Villeneuve himself emphasized the importance of this relationship, stating that it serves as the emotional core of the film amidst the political turmoil.\n\nHowever, audience feedback has also revealed a mix of admiration and critique. Some viewers expressed disappointment regarding character development and narrative depth, noting that the villains felt underwhelming and lacked a genuine threat. Others criticized the rapid character changes, particularly in the arcs of Jessica and Paul. Despite these critiques, the film received an \"A\" grade from CinemaScore and a 94% positive score from PostTrak, indicating that a substantial majority of viewers would recommend it. The exploration of themes such as power, prophecy, and personal sacrifice resonated with many, although some felt that the adaptation strayed too far from the source material. Overall, \"Dune: Part Two\" has sparked engaging discussions about its narrative choices and character arcs, solidifying its place as a significant entry in the science fiction genre.\n\n## Sources\n1. [IMDb - Dune: Part Two](https://www.imdb.com/title/tt15239678/)\n2. [Rotten Tomatoes - Dune: Part Two Reviews](https://www.rottentomatoes.com/m/dune_part_two/reviews)\n3. [Wikipedia - Dune: Part Two](https://en.wikipedia.org/wiki/Dune:_Part_Two)\n4. [Screen Daily - Denis Villeneuve Breaks Down Four Key Scenes from Dune: Part Two](https://www.screendaily.com/)\n5. [EN World - Review Critical of Dune: Part Two Based on the Depiction of Chani](https://www.enworld.org/) \n\nIn conclusion, \"Dune: Part Two\" stands as a visually stunning and ambitious continuation of Herbert's saga, inviting both admiration and critique from its audience. Its ability to provoke discussion about its narrative choices and character arcs ensures its place in the annals of science fiction cinema."
     },
     "execution_count": 17,
     "metadata": {},
     "output_type": "execute_result"
    }
   ],
   "execution_count": 17
  },
  {
   "metadata": {},
   "cell_type": "code",
   "outputs": [],
   "execution_count": null,
   "source": ""
  }
 ],
 "metadata": {
  "kernelspec": {
   "display_name": "Python 3",
   "language": "python",
   "name": "python3"
  },
  "language_info": {
   "name": "python",
   "version": "3.11.0"
  }
 },
 "nbformat": 4,
 "nbformat_minor": 4
}
