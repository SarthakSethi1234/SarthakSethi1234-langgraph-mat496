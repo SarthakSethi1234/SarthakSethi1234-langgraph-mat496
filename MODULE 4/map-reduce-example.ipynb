{
 "cells": [
  {
   "metadata": {},
   "cell_type": "markdown",
   "source": "",
   "id": "9b8d3427fe9a6c8c"
  },
  {
   "cell_type": "code",
   "id": "initial_id",
   "metadata": {
    "collapsed": true,
    "ExecuteTime": {
     "end_time": "2025-10-31T14:19:36.646735Z",
     "start_time": "2025-10-31T14:19:36.615659Z"
    }
   },
   "source": [
    "from langgraph.graph import StateGraph, START, END\n",
    "from langgraph.api import Send  # ✅ Correct import\n",
    "from typing_extensions import TypedDict\n",
    "from typing import List, Annotated\n",
    "import random, operator"
   ],
   "outputs": [
    {
     "ename": "ModuleNotFoundError",
     "evalue": "No module named 'langgraph.api'",
     "output_type": "error",
     "traceback": [
      "\u001B[0;31m---------------------------------------------------------------------------\u001B[0m",
      "\u001B[0;31mModuleNotFoundError\u001B[0m                       Traceback (most recent call last)",
      "Cell \u001B[0;32mIn[14], line 2\u001B[0m\n\u001B[1;32m      1\u001B[0m \u001B[38;5;28;01mfrom\u001B[39;00m\u001B[38;5;250m \u001B[39m\u001B[38;5;21;01mlanggraph\u001B[39;00m\u001B[38;5;21;01m.\u001B[39;00m\u001B[38;5;21;01mgraph\u001B[39;00m\u001B[38;5;250m \u001B[39m\u001B[38;5;28;01mimport\u001B[39;00m StateGraph, START, END\n\u001B[0;32m----> 2\u001B[0m \u001B[38;5;28;01mfrom\u001B[39;00m\u001B[38;5;250m \u001B[39m\u001B[38;5;21;01mlanggraph\u001B[39;00m\u001B[38;5;21;01m.\u001B[39;00m\u001B[38;5;21;01mapi\u001B[39;00m\u001B[38;5;250m \u001B[39m\u001B[38;5;28;01mimport\u001B[39;00m Send  \n\u001B[1;32m      3\u001B[0m \u001B[38;5;28;01mfrom\u001B[39;00m\u001B[38;5;250m \u001B[39m\u001B[38;5;21;01mtyping_extensions\u001B[39;00m\u001B[38;5;250m \u001B[39m\u001B[38;5;28;01mimport\u001B[39;00m TypedDict\n\u001B[1;32m      4\u001B[0m \u001B[38;5;28;01mfrom\u001B[39;00m\u001B[38;5;250m \u001B[39m\u001B[38;5;21;01mtyping\u001B[39;00m\u001B[38;5;250m \u001B[39m\u001B[38;5;28;01mimport\u001B[39;00m List, Annotated\n",
      "\u001B[0;31mModuleNotFoundError\u001B[0m: No module named 'langgraph.api'"
     ]
    }
   ],
   "execution_count": 14
  },
  {
   "metadata": {
    "ExecuteTime": {
     "end_time": "2025-10-31T14:17:38.433529Z",
     "start_time": "2025-10-31T14:17:38.430570Z"
    }
   },
   "cell_type": "code",
   "source": [
    "class ScoreState(TypedDict):\n",
    "    number: int\n",
    "    scores: Annotated[List[int], operator.add]\n",
    "    total_score: int\n",
    "\n",
    "# Map phase – double the number (like applying a curve)\n",
    "def map_score(state):\n",
    "    num = state[\"number\"]\n",
    "    return {\"scores\": [num * 2]}\n",
    "\n",
    "# Reduce phase – combine all doubled scores\n",
    "def reduce_scores(state):\n",
    "    total = sum(state[\"scores\"])\n",
    "    return {\"total_score\": total}"
   ],
   "id": "8cfffbef963d3bab",
   "outputs": [],
   "execution_count": 11
  },
  {
   "metadata": {
    "ExecuteTime": {
     "end_time": "2025-10-31T14:17:38.935427Z",
     "start_time": "2025-10-31T14:17:38.929640Z"
    }
   },
   "cell_type": "code",
   "source": [
    "# Build the graph\n",
    "builder = StateGraph(ScoreState)\n",
    "builder.add_node(\"map_score\", map_score)\n",
    "builder.add_node(\"reduce_scores\", reduce_scores)\n",
    "\n",
    "builder.add_edge(START, \"map_score\")\n",
    "builder.add_edge(\"map_score\", \"reduce_scores\")\n",
    "builder.add_edge(\"reduce_scores\", END)\n",
    "\n",
    "graph = builder.compile()"
   ],
   "id": "5d64e16b7c055c5a",
   "outputs": [],
   "execution_count": 12
  },
  {
   "metadata": {
    "ExecuteTime": {
     "end_time": "2025-10-31T14:17:39.633791Z",
     "start_time": "2025-10-31T14:17:39.621256Z"
    }
   },
   "cell_type": "code",
   "source": [
    "# Sample input scores\n",
    "numbers = [10, 20, 30, 40, 50]\n",
    "\n",
    "# Use Send to process each number separately in the map phase\n",
    "result = graph.invoke(\n",
    "    {\"number\": numbers},\n",
    "    config=Send(\"map_score\", [{\"number\": n} for n in numbers])\n",
    ")\n",
    "\n",
    "print(result)"
   ],
   "id": "88956fcc4ecb6588",
   "outputs": [
    {
     "ename": "NameError",
     "evalue": "name 'Send' is not defined",
     "output_type": "error",
     "traceback": [
      "\u001B[0;31m---------------------------------------------------------------------------\u001B[0m",
      "\u001B[0;31mNameError\u001B[0m                                 Traceback (most recent call last)",
      "Cell \u001B[0;32mIn[13], line 7\u001B[0m\n\u001B[1;32m      2\u001B[0m numbers \u001B[38;5;241m=\u001B[39m [\u001B[38;5;241m10\u001B[39m, \u001B[38;5;241m20\u001B[39m, \u001B[38;5;241m30\u001B[39m, \u001B[38;5;241m40\u001B[39m, \u001B[38;5;241m50\u001B[39m]\n\u001B[1;32m      4\u001B[0m \u001B[38;5;66;03m# Use Send to process each number separately in the map phase\u001B[39;00m\n\u001B[1;32m      5\u001B[0m result \u001B[38;5;241m=\u001B[39m graph\u001B[38;5;241m.\u001B[39minvoke(\n\u001B[1;32m      6\u001B[0m     {\u001B[38;5;124m\"\u001B[39m\u001B[38;5;124mnumber\u001B[39m\u001B[38;5;124m\"\u001B[39m: numbers},\n\u001B[0;32m----> 7\u001B[0m     config\u001B[38;5;241m=\u001B[39m\u001B[43mSend\u001B[49m(\u001B[38;5;124m\"\u001B[39m\u001B[38;5;124mmap_score\u001B[39m\u001B[38;5;124m\"\u001B[39m, [{\u001B[38;5;124m\"\u001B[39m\u001B[38;5;124mnumber\u001B[39m\u001B[38;5;124m\"\u001B[39m: n} \u001B[38;5;28;01mfor\u001B[39;00m n \u001B[38;5;129;01min\u001B[39;00m numbers])\n\u001B[1;32m      8\u001B[0m )\n\u001B[1;32m     10\u001B[0m \u001B[38;5;28mprint\u001B[39m(result)\n",
      "\u001B[0;31mNameError\u001B[0m: name 'Send' is not defined"
     ]
    }
   ],
   "execution_count": 13
  },
  {
   "metadata": {
    "ExecuteTime": {
     "end_time": "2025-10-31T14:17:24.821686Z",
     "start_time": "2025-10-31T14:17:24.819767Z"
    }
   },
   "cell_type": "code",
   "source": "",
   "id": "4e6c472345772145",
   "outputs": [],
   "execution_count": null
  },
  {
   "metadata": {},
   "cell_type": "code",
   "outputs": [],
   "execution_count": null,
   "source": "",
   "id": "3eef9bf86f233d2b"
  }
 ],
 "metadata": {
  "kernelspec": {
   "display_name": "Python 3",
   "language": "python",
   "name": "python3"
  },
  "language_info": {
   "codemirror_mode": {
    "name": "ipython",
    "version": 2
   },
   "file_extension": ".py",
   "mimetype": "text/x-python",
   "name": "python",
   "nbconvert_exporter": "python",
   "pygments_lexer": "ipython2",
   "version": "2.7.6"
  }
 },
 "nbformat": 4,
 "nbformat_minor": 5
}
