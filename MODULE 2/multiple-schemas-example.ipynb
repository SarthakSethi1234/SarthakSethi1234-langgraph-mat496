{
 "cells": [
  {
   "cell_type": "code",
   "id": "initial_id",
   "metadata": {
    "collapsed": true,
    "ExecuteTime": {
     "end_time": "2025-10-19T06:41:49.394042Z",
     "start_time": "2025-10-19T06:41:48.446091Z"
    }
   },
   "source": [
    "from typing_extensions import TypedDict\n",
    "from IPython.display import Image, display\n",
    "from langgraph.graph import StateGraph, START, END\n",
    "\n",
    "class TempState(TypedDict):\n",
    "    celsius: float\n",
    "\n",
    "class InternalState(TypedDict):\n",
    "    fahrenheit: float\n",
    "\n",
    "def convert_to_fahrenheit(state: TempState) -> InternalState:\n",
    "    print(\"---Node 1: Convert to Fahrenheit---\")\n",
    "    fahrenheit = (state['celsius'] * 9/5) + 32\n",
    "    return {\"fahrenheit\": fahrenheit}\n",
    "\n",
    "def apply_correction(state: InternalState) -> TempState:\n",
    "    print(\"---Node 2: Apply Correction---\")\n",
    "    corrected_temp = (state['fahrenheit'] - 32) * 5/9 + 1  # adds +1°C correction\n",
    "    return {\"celsius\": corrected_temp}\n",
    "\n",
    "builder = StateGraph(TempState)\n",
    "builder.add_node(\"convert_to_fahrenheit\", convert_to_fahrenheit)\n",
    "builder.add_node(\"apply_correction\", apply_correction)\n",
    "\n",
    "builder.add_edge(START, \"convert_to_fahrenheit\")\n",
    "builder.add_edge(\"convert_to_fahrenheit\", \"apply_correction\")\n",
    "builder.add_edge(\"apply_correction\", END)\n",
    "\n",
    "graph = builder.compile()\n",
    "\n",
    "display(Image(graph.get_graph().draw_mermaid_png()))\n"
   ],
   "outputs": [
    {
     "data": {
      "image/png": "[encoded data removed]",
      "text/plain": [
       "<IPython.core.display.Image object>"
      ]
     },
     "metadata": {},
     "output_type": "display_data",
     "jetTransient": {
      "display_id": null
     }
    }
   ],
   "execution_count": 1
  },
  {
   "metadata": {
    "ExecuteTime": {
     "end_time": "2025-10-19T06:42:46.085074Z",
     "start_time": "2025-10-19T06:42:46.080253Z"
    }
   },
   "cell_type": "code",
   "source": "graph.invoke({\"celsius\":35.5})",
   "id": "a3e8615a6c5c5b03",
   "outputs": [
    {
     "name": "stdout",
     "output_type": "stream",
     "text": [
      "---Node 1: Convert to Fahrenheit---\n",
      "---Node 2: Apply Correction---\n"
     ]
    },
    {
     "data": {
      "text/plain": [
       "{'celsius': 36.5}"
      ]
     },
     "execution_count": 3,
     "metadata": {},
     "output_type": "execute_result"
    }
   ],
   "execution_count": 3
  },
  {
   "metadata": {},
   "cell_type": "code",
   "outputs": [],
   "execution_count": null,
   "source": [
    "from typing_extensions import TypedDict\n",
    "from IPython.display import Image, display\n",
    "from langgraph.graph import StateGraph, START, END\n",
    "\n",
    "class InputState(TypedDict):\n",
    "    destination: str\n",
    "\n",
    "class OutputState(TypedDict):\n",
    "    message: str\n",
    "\n",
    "class OverallState(TypedDict):\n",
    "    destination: str\n",
    "    note: str\n",
    "    message: str\n",
    "\n",
    "# Nodes\n",
    "def info_node(state: InputState):\n",
    "    print(\"---Info Node---\")\n",
    "    note = f\"{state['destination']} is known for its culture and food.\"\n",
    "    return {\"note\": note, \"message\": \"Processing...\"}\n",
    "\n",
    "def message_node(state: OverallState) -> OutputState:\n",
    "    print(\"---Message Node---\")\n",
    "    return {\"message\": f\"Enjoy your trip to {state['destination']}!\"}\n",
    "\n",
    "# Build graph\n",
    "graph = StateGraph(OverallState, input_schema=InputState, output_schema=OutputState)\n",
    "graph.add_node(\"info_node\", info_node)\n",
    "graph.add_node(\"message_node\", message_node)\n",
    "graph.add_edge(START, \"info_node\")\n",
    "graph.add_edge(\"info_node\", \"message_node\")\n",
    "graph.add_edge(\"message_node\", END)\n",
    "\n",
    "# Compile\n",
    "graph = graph.compile()\n",
    "\n",
    "# Visualize\n",
    "display(Image(graph.get_graph().draw_mermaid_png()))\n",
    "\n",
    "# Test\n",
    "result = graph.invoke({\"destination\": \"Paris\"})\n",
    "print(\"\\nFinal Output:\", result)\n"
   ],
   "id": "6dceb191595cc119"
  }
 ],
 "metadata": {
  "kernelspec": {
   "display_name": "Python 3",
   "language": "python",
   "name": "python3"
  },
  "language_info": {
   "codemirror_mode": {
    "name": "ipython",
    "version": 2
   },
   "file_extension": ".py",
   "mimetype": "text/x-python",
   "name": "python",
   "nbconvert_exporter": "python",
   "pygments_lexer": "ipython2",
   "version": "2.7.6"
  }
 },
 "nbformat": 4,
 "nbformat_minor": 5
}
