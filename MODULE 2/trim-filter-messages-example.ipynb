{
 "cells": [
  {
   "cell_type": "code",
   "id": "initial_id",
   "metadata": {
    "collapsed": true,
    "ExecuteTime": {
     "end_time": "2025-10-19T07:31:08.370443Z",
     "start_time": "2025-10-19T07:31:08.364174Z"
    }
   },
   "source": [
    "from dotenv import load_dotenv\n",
    "load_dotenv()"
   ],
   "outputs": [
    {
     "data": {
      "text/plain": [
       "True"
      ]
     },
     "execution_count": 1,
     "metadata": {},
     "output_type": "execute_result"
    }
   ],
   "execution_count": 1
  },
  {
   "metadata": {
    "ExecuteTime": {
     "end_time": "2025-10-19T07:31:28.442130Z",
     "start_time": "2025-10-19T07:31:27.842279Z"
    }
   },
   "cell_type": "code",
   "source": [
    "from langchain_core.messages import AIMessage, HumanMessage, trim_messages\n",
    "from langgraph.graph import MessagesState, StateGraph, START, END\n",
    "from langchain_openai import ChatOpenAI\n",
    "\n",
    "llm = ChatOpenAI(model=\"gpt-4o\")\n",
    "\n",
    "def chat_model_node(state: MessagesState):\n",
    "    \"\"\"Trim messages to last 100 tokens before sending to LLM\"\"\"\n",
    "    trimmed_messages = trim_messages(\n",
    "        state[\"messages\"],\n",
    "        max_tokens=100,  # Only keep last 100 tokens worth of messages\n",
    "        strategy=\"last\",  # Keep the most recent messages\n",
    "        token_counter=ChatOpenAI(model=\"gpt-4o\"),\n",
    "        allow_partial=False  # Don't cut messages in half\n",
    "    )\n",
    "    return {\"messages\": [llm.invoke(trimmed_messages)]}\n"
   ],
   "id": "c3e3dfaf5039dfc3",
   "outputs": [],
   "execution_count": 2
  },
  {
   "metadata": {
    "ExecuteTime": {
     "end_time": "2025-10-19T07:31:41.699151Z",
     "start_time": "2025-10-19T07:31:41.693601Z"
    }
   },
   "cell_type": "code",
   "source": [
    "builder = StateGraph(MessagesState)\n",
    "builder.add_node(\"chat_model\", chat_model_node)\n",
    "builder.add_edge(START, \"chat_model\")\n",
    "builder.add_edge(\"chat_model\", END)\n",
    "graph = builder.compile()"
   ],
   "id": "30561092cdba4c3b",
   "outputs": [],
   "execution_count": 3
  },
  {
   "metadata": {
    "ExecuteTime": {
     "end_time": "2025-10-19T07:31:51.164535Z",
     "start_time": "2025-10-19T07:31:51.161249Z"
    }
   },
   "cell_type": "code",
   "source": [
    "messages = [\n",
    "    HumanMessage(\"Hi! I'm learning about dogs.\", name=\"User\"),\n",
    "    AIMessage(\"Great! Dogs are wonderful pets.\", name=\"Bot\"),\n",
    "    HumanMessage(\"What breeds are best for families?\", name=\"User\"),\n",
    "    AIMessage(\"Golden Retrievers and Labradors are excellent family dogs.\", name=\"Bot\"),\n",
    "    HumanMessage(\"Tell me about their temperament.\", name=\"User\")\n",
    "]\n"
   ],
   "id": "130983c545eadcf3",
   "outputs": [
    {
     "name": "stdout",
     "output_type": "stream",
     "text": [
      "ERROR! Session/line number was not unique in database. History logging moved to new session 83\n"
     ]
    }
   ],
   "execution_count": 4
  },
  {
   "metadata": {
    "ExecuteTime": {
     "end_time": "2025-10-19T07:33:01.439722Z",
     "start_time": "2025-10-19T07:33:01.435737Z"
    }
   },
   "cell_type": "code",
   "source": [
    "print(\"ORIGINAL CONVERSATION:\")\n",
    "print(f\"Total messages: {len(messages)}\\n\")\n",
    "for message in messages:\n",
    "    message.pretty_print()\n"
   ],
   "id": "8cadd2d98eaa3706",
   "outputs": [
    {
     "name": "stdout",
     "output_type": "stream",
     "text": [
      "ORIGINAL CONVERSATION:\n",
      "Total messages: 5\n",
      "\n",
      "================================\u001B[1m Human Message \u001B[0m=================================\n",
      "Name: User\n",
      "\n",
      "Hi! I'm learning about dogs.\n",
      "==================================\u001B[1m Ai Message \u001B[0m==================================\n",
      "Name: Bot\n",
      "\n",
      "Great! Dogs are wonderful pets.\n",
      "================================\u001B[1m Human Message \u001B[0m=================================\n",
      "Name: User\n",
      "\n",
      "What breeds are best for families?\n",
      "==================================\u001B[1m Ai Message \u001B[0m==================================\n",
      "Name: Bot\n",
      "\n",
      "Golden Retrievers and Labradors are excellent family dogs.\n",
      "================================\u001B[1m Human Message \u001B[0m=================================\n",
      "Name: User\n",
      "\n",
      "Tell me about their temperament.\n"
     ]
    }
   ],
   "execution_count": 6
  },
  {
   "metadata": {
    "ExecuteTime": {
     "end_time": "2025-10-19T07:33:41.941611Z",
     "start_time": "2025-10-19T07:33:41.799563Z"
    }
   },
   "cell_type": "code",
   "source": [
    "trimmed = trim_messages(\n",
    "    messages,\n",
    "    max_tokens=100,\n",
    "    strategy=\"last\",\n",
    "    token_counter=ChatOpenAI(model=\"gpt-4o\"),\n",
    "    allow_partial=False\n",
    ")\n",
    "\n",
    "print(\"\\n\" + \"=\"*60)\n",
    "print(\"TRIMMED MESSAGES (what LLM actually sees):\")\n",
    "for message in trimmed:\n",
    "    message.pretty_print()"
   ],
   "id": "646c9d3bc9b10b90",
   "outputs": [
    {
     "name": "stdout",
     "output_type": "stream",
     "text": [
      "\n",
      "============================================================\n",
      "TRIMMED MESSAGES (what LLM actually sees):\n",
      "================================\u001B[1m Human Message \u001B[0m=================================\n",
      "Name: User\n",
      "\n",
      "Hi! I'm learning about dogs.\n",
      "==================================\u001B[1m Ai Message \u001B[0m==================================\n",
      "Name: Bot\n",
      "\n",
      "Great! Dogs are wonderful pets.\n",
      "================================\u001B[1m Human Message \u001B[0m=================================\n",
      "Name: User\n",
      "\n",
      "What breeds are best for families?\n",
      "==================================\u001B[1m Ai Message \u001B[0m==================================\n",
      "Name: Bot\n",
      "\n",
      "Golden Retrievers and Labradors are excellent family dogs.\n",
      "================================\u001B[1m Human Message \u001B[0m=================================\n",
      "Name: User\n",
      "\n",
      "Tell me about their temperament.\n"
     ]
    }
   ],
   "execution_count": 7
  },
  {
   "metadata": {
    "ExecuteTime": {
     "end_time": "2025-10-19T07:34:28.468582Z",
     "start_time": "2025-10-19T07:34:23.315679Z"
    }
   },
   "cell_type": "code",
   "source": "output = graph.invoke({'messages': messages})",
   "id": "98faa42426ea4470",
   "outputs": [],
   "execution_count": 8
  },
  {
   "metadata": {
    "ExecuteTime": {
     "end_time": "2025-10-19T07:35:21.211525Z",
     "start_time": "2025-10-19T07:35:21.208028Z"
    }
   },
   "cell_type": "code",
   "source": [
    "for m in output['messages']:\n",
    "    m.pretty_print()"
   ],
   "id": "63d82435b34bbc13",
   "outputs": [
    {
     "name": "stdout",
     "output_type": "stream",
     "text": [
      "================================\u001B[1m Human Message \u001B[0m=================================\n",
      "Name: User\n",
      "\n",
      "Hi! I'm learning about dogs.\n",
      "==================================\u001B[1m Ai Message \u001B[0m==================================\n",
      "Name: Bot\n",
      "\n",
      "Great! Dogs are wonderful pets.\n",
      "================================\u001B[1m Human Message \u001B[0m=================================\n",
      "Name: User\n",
      "\n",
      "What breeds are best for families?\n",
      "==================================\u001B[1m Ai Message \u001B[0m==================================\n",
      "Name: Bot\n",
      "\n",
      "Golden Retrievers and Labradors are excellent family dogs.\n",
      "================================\u001B[1m Human Message \u001B[0m=================================\n",
      "Name: User\n",
      "\n",
      "Tell me about their temperament.\n",
      "==================================\u001B[1m Ai Message \u001B[0m==================================\n",
      "\n",
      "Golden Retrievers and Labrador Retrievers are renowned for their friendly and gentle temperaments, making them ideal family pets.\n",
      "\n",
      "**Golden Retrievers**:\n",
      "- **Friendly and Sociable**: Golden Retrievers are known for their friendliness towards people and other animals. They are usually eager to meet new friends, and their sociable nature makes them excellent companions.\n",
      "- **Gentle and Patient**: They are gentle with children and patient, even in the face of rough play, which makes them great for families with young kids.\n",
      "- **Intelligent and Trainable**: They are highly intelligent and eager to please, which makes them relatively easy to train, whether it’s basic commands or more complex tasks.\n",
      "- **Energetic and Playful**: Golden Retrievers are active dogs that need plenty of exercise, so they're great for active families who enjoy outdoor activities.\n",
      "\n",
      "**Labrador Retrievers**:\n",
      "- **Friendly and Outgoing**: Labradors are known for their outgoing nature and love being around people, making them perfect for social families.\n",
      "- **Even-tempered and Loyal**: They are generally even-tempered and remain loyal and protective of their families, making them trustworthy companions.\n",
      "- **Easygoing and Adaptable**: Labradors adapt well to different environments and situations, whether it’s a bustling household or a calm, relaxed home.\n",
      "- **Energetic and Fun-loving**: Like Golden Retrievers, Labradors are energetic and thrive in active households. They love playtime and need regular exercise.\n",
      "\n",
      "Both breeds require regular exercise, mental stimulation, and social interactions to maintain their well-being and happy demeanor. Their loving and adaptable natures make them a perfect fit for families of all sizes and lifestyles.\n"
     ]
    }
   ],
   "execution_count": 10
  },
  {
   "metadata": {},
   "cell_type": "code",
   "outputs": [],
   "execution_count": null,
   "source": "",
   "id": "4a15fb2950598a3b"
  }
 ],
 "metadata": {
  "kernelspec": {
   "display_name": "Python 3",
   "language": "python",
   "name": "python3"
  },
  "language_info": {
   "codemirror_mode": {
    "name": "ipython",
    "version": 2
   },
   "file_extension": ".py",
   "mimetype": "text/x-python",
   "name": "python",
   "nbconvert_exporter": "python",
   "pygments_lexer": "ipython2",
   "version": "2.7.6"
  }
 },
 "nbformat": 4,
 "nbformat_minor": 5
}
