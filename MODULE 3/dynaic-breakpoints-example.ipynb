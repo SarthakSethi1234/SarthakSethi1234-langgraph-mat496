{
 "cells": [
  {
   "cell_type": "code",
   "id": "initial_id",
   "metadata": {
    "collapsed": true,
    "ExecuteTime": {
     "end_time": "2025-10-27T15:53:18.025569Z",
     "start_time": "2025-10-27T15:53:18.022138Z"
    }
   },
   "source": [
    "from typing_extensions import TypedDict\n",
    "from langgraph.checkpoint.memory import MemorySaver\n",
    "from langgraph.errors import NodeInterrupt\n",
    "from langgraph.graph import START, END, StateGraph\n",
    "\n",
    "# Define a simple state\n",
    "class State(TypedDict):\n",
    "    message: str\n"
   ],
   "outputs": [],
   "execution_count": 7
  },
  {
   "metadata": {
    "ExecuteTime": {
     "end_time": "2025-10-27T15:53:18.180192Z",
     "start_time": "2025-10-27T15:53:18.176444Z"
    }
   },
   "cell_type": "code",
   "source": [
    "def step_1(state: State) -> State:\n",
    "    print(\"→ Step 1 running\")\n",
    "    return state\n",
    "\n",
    "def step_2(state: State) -> State:\n",
    "    print(\"→ Step 2 running\")\n",
    "    # Dynamic breakpoint: stop if message contains \"pause\"\n",
    "    if \"pause\" in state[\"message\"].lower():\n",
    "        raise NodeInterrupt(\"Message asked to pause — stopping dynamically.\")\n",
    "    return state\n",
    "\n",
    "def step_3(state: State) -> State:\n",
    "    print(\"→ Step 3 running\")\n",
    "    return {\"message\": \"Process complete \"}\n"
   ],
   "id": "749dda82b113a17a",
   "outputs": [],
   "execution_count": 8
  },
  {
   "metadata": {
    "ExecuteTime": {
     "end_time": "2025-10-27T15:53:18.363634Z",
     "start_time": "2025-10-27T15:53:18.354718Z"
    }
   },
   "cell_type": "code",
   "source": [
    "# Build the graph\n",
    "builder = StateGraph(State)\n",
    "builder.add_node(\"step_1\", step_1)\n",
    "builder.add_node(\"step_2\", step_2)\n",
    "builder.add_node(\"step_3\", step_3)\n",
    "\n",
    "builder.add_edge(START, \"step_1\")\n",
    "builder.add_edge(\"step_1\", \"step_2\")\n",
    "builder.add_edge(\"step_2\", \"step_3\")\n",
    "builder.add_edge(\"step_3\", END)\n",
    "\n",
    "graph = builder.compile(checkpointer=MemorySaver())\n",
    "\n",
    "# Run with a message that triggers the dynamic breakpoint\n",
    "input_state = {\"message\": \"Please pause here\"}\n",
    "thread = {\"configurable\": {\"thread_id\": \"dynamic-1\"}}\n",
    "\n",
    "for event in graph.stream(input_state, thread, stream_mode=\"values\"):\n",
    "    print(event)\n"
   ],
   "id": "658c512153221e0c",
   "outputs": [
    {
     "name": "stdout",
     "output_type": "stream",
     "text": [
      "{'message': 'Please pause here'}\n",
      "→ Step 1 running\n",
      "{'message': 'Please pause here'}\n",
      "→ Step 2 running\n",
      "{'__interrupt__': (Interrupt(value='Message asked to pause — stopping dynamically.', id='placeholder-id'),)}\n"
     ]
    },
    {
     "name": "stderr",
     "output_type": "stream",
     "text": [
      "/var/folders/6d/nrcfk1zj04jb6zj0_p75ydvw0000gn/T/ipykernel_26435/1647178422.py:9: LangGraphDeprecatedSinceV10: NodeInterrupt is deprecated. Please use `langgraph.types.interrupt` instead. Deprecated in LangGraph V1.0 to be removed in V2.0.\n",
      "  raise NodeInterrupt(\"Message asked to pause — stopping dynamically.\")\n"
     ]
    }
   ],
   "execution_count": 9
  },
  {
   "metadata": {
    "ExecuteTime": {
     "end_time": "2025-10-27T15:53:18.491645Z",
     "start_time": "2025-10-27T15:53:18.486494Z"
    }
   },
   "cell_type": "code",
   "source": [
    "# Get and inspect the current state\n",
    "state = graph.get_state(thread)\n",
    "print(\"Stopped at:\", state.next)\n",
    "\n",
    "# Resume the graph\n",
    "for event in graph.stream(None, thread, stream_mode=\"values\"):\n",
    "    print(event)\n"
   ],
   "id": "a8a9e75592d3f2e0",
   "outputs": [
    {
     "name": "stdout",
     "output_type": "stream",
     "text": [
      "Stopped at: ('step_2',)\n",
      "{'message': 'Please pause here'}\n",
      "→ Step 2 running\n",
      "{'__interrupt__': (Interrupt(value='Message asked to pause — stopping dynamically.', id='placeholder-id'),)}\n"
     ]
    },
    {
     "name": "stderr",
     "output_type": "stream",
     "text": [
      "/var/folders/6d/nrcfk1zj04jb6zj0_p75ydvw0000gn/T/ipykernel_26435/1647178422.py:9: LangGraphDeprecatedSinceV10: NodeInterrupt is deprecated. Please use `langgraph.types.interrupt` instead. Deprecated in LangGraph V1.0 to be removed in V2.0.\n",
      "  raise NodeInterrupt(\"Message asked to pause — stopping dynamically.\")\n"
     ]
    }
   ],
   "execution_count": 10
  },
  {
   "metadata": {
    "ExecuteTime": {
     "end_time": "2025-10-27T15:53:18.650348Z",
     "start_time": "2025-10-27T15:53:18.645227Z"
    }
   },
   "cell_type": "code",
   "source": [
    "# Get the interrupted state\n",
    "state = graph.get_state(thread)\n",
    "print(\"Stopped at:\", state.next)\n",
    "print(\"Before edit:\", state.values[\"message\"])\n",
    "\n",
    "# Update the message to continue\n",
    "state.values[\"message\"] = \"Continue process\"\n",
    "graph.update_state(thread, state.values)\n",
    "\n",
    "print(\"After edit:\", graph.get_state(thread).values[\"message\"])\n",
    "\n"
   ],
   "id": "3260479d11814193",
   "outputs": [
    {
     "name": "stdout",
     "output_type": "stream",
     "text": [
      "Stopped at: ('step_2',)\n",
      "Before edit: Please pause here\n",
      "After edit: Continue process\n"
     ]
    }
   ],
   "execution_count": 11
  },
  {
   "metadata": {
    "ExecuteTime": {
     "end_time": "2025-10-27T15:53:19.066904Z",
     "start_time": "2025-10-27T15:53:19.058460Z"
    }
   },
   "cell_type": "code",
   "source": [
    "# Continue execution after the edit\n",
    "for event in graph.stream(None, thread, stream_mode=\"values\"):\n",
    "    print(event)\n",
    "\n"
   ],
   "id": "d68520ce1fd4c519",
   "outputs": [
    {
     "name": "stdout",
     "output_type": "stream",
     "text": [
      "{'message': 'Continue process'}\n",
      "→ Step 2 running\n",
      "{'message': 'Continue process'}\n",
      "→ Step 3 running\n",
      "{'message': 'Process complete '}\n"
     ]
    }
   ],
   "execution_count": 12
  },
  {
   "metadata": {
    "ExecuteTime": {
     "end_time": "2025-10-27T15:53:19.368223Z",
     "start_time": "2025-10-27T15:53:19.366003Z"
    }
   },
   "cell_type": "code",
   "source": "",
   "id": "514bc1a86bbe93cb",
   "outputs": [],
   "execution_count": null
  }
 ],
 "metadata": {
  "kernelspec": {
   "display_name": "Python 3",
   "language": "python",
   "name": "python3"
  },
  "language_info": {
   "codemirror_mode": {
    "name": "ipython",
    "version": 2
   },
   "file_extension": ".py",
   "mimetype": "text/x-python",
   "name": "python",
   "nbconvert_exporter": "python",
   "pygments_lexer": "ipython2",
   "version": "2.7.6"
  }
 },
 "nbformat": 4,
 "nbformat_minor": 5
}
